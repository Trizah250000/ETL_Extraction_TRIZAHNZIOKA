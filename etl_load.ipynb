{
 "cells": [
  {
   "cell_type": "code",
   "execution_count": 12,
   "id": "ae8cbe4e",
   "metadata": {},
   "outputs": [],
   "source": [
    "import pandas as pd\n",
    "import sqlite3\n",
    "import os\n",
    "\n",
    "# Create output folder if not exists\n",
    "os.makedirs('loaded_data', exist_ok=True)\n"
   ]
  },
  {
   "cell_type": "code",
   "execution_count": 13,
   "id": "ce63b668",
   "metadata": {},
   "outputs": [
    {
     "name": "stdout",
     "output_type": "stream",
     "text": [
      "Full data loaded into SQLite.\n"
     ]
    }
   ],
   "source": [
    "# Load full transformed data\n",
    "full_df = pd.read_csv('transformed_full.csv')\n",
    "\n",
    "# Connect to SQLite and load\n",
    "conn_full = sqlite3.connect('loaded_data/full_data.db')\n",
    "full_df.to_sql('full_data', conn_full, if_exists='replace', index=False)\n",
    "\n",
    "print(\"Full data loaded into SQLite.\")\n"
   ]
  },
  {
   "cell_type": "code",
   "execution_count": 14,
   "id": "3e5bd42f",
   "metadata": {},
   "outputs": [
    {
     "name": "stdout",
     "output_type": "stream",
     "text": [
      "Incremental data loaded into SQLite.\n"
     ]
    }
   ],
   "source": [
    "# Load incremental transformed data\n",
    "inc_df = pd.read_csv('transformed_incremental.csv')\n",
    "\n",
    "# Connect to SQLite and load\n",
    "conn_inc = sqlite3.connect('loaded_data/incremental_data.db')\n",
    "inc_df.to_sql('incremental_data', conn_inc, if_exists='replace', index=False)\n",
    "\n",
    "print(\"Incremental data loaded into SQLite.\")\n"
   ]
  },
  {
   "cell_type": "code",
   "execution_count": 10,
   "id": "1a4dad20",
   "metadata": {},
   "outputs": [
    {
     "data": {
      "application/vnd.microsoft.datawrangler.viewer.v0+json": {
       "columns": [
        {
         "name": "index",
         "rawType": "int64",
         "type": "integer"
        },
        {
         "name": "match_id",
         "rawType": "int64",
         "type": "integer"
        },
        {
         "name": "home_team",
         "rawType": "object",
         "type": "string"
        },
        {
         "name": "away_team",
         "rawType": "object",
         "type": "string"
        },
        {
         "name": "date",
         "rawType": "object",
         "type": "string"
        },
        {
         "name": "home_score",
         "rawType": "int64",
         "type": "integer"
        },
        {
         "name": "away_score",
         "rawType": "int64",
         "type": "integer"
        },
        {
         "name": "last_updated",
         "rawType": "object",
         "type": "string"
        },
        {
         "name": "goal_diff",
         "rawType": "int64",
         "type": "integer"
        }
       ],
       "ref": "275a6493-4d3c-41ff-83ff-f462fb8f0726",
       "rows": [
        [
         "0",
         "1000",
         "Arsenal",
         "Man City",
         "2025-04-02",
         "5",
         "4",
         "2025-04-02 23:18:00",
         "1"
        ],
        [
         "1",
         "1001",
         "Spurs",
         "Arsenal",
         "2025-04-02",
         "0",
         "0",
         "2025-04-02 09:50:00",
         "0"
        ],
        [
         "2",
         "1002",
         "Chelsea",
         "Man City",
         "2025-04-03",
         "1",
         "2",
         "2025-04-03 06:24:00",
         "-1"
        ],
        [
         "3",
         "1003",
         "Barcelona",
         "Bayern",
         "2025-04-03",
         "3",
         "5",
         "2025-04-03 06:46:00",
         "-2"
        ],
        [
         "4",
         "1004",
         "Real Madrid",
         "Chelsea",
         "2025-04-03",
         "5",
         "3",
         "2025-04-03 01:17:00",
         "2"
        ]
       ],
       "shape": {
        "columns": 8,
        "rows": 5
       }
      },
      "text/html": [
       "<div>\n",
       "<style scoped>\n",
       "    .dataframe tbody tr th:only-of-type {\n",
       "        vertical-align: middle;\n",
       "    }\n",
       "\n",
       "    .dataframe tbody tr th {\n",
       "        vertical-align: top;\n",
       "    }\n",
       "\n",
       "    .dataframe thead th {\n",
       "        text-align: right;\n",
       "    }\n",
       "</style>\n",
       "<table border=\"1\" class=\"dataframe\">\n",
       "  <thead>\n",
       "    <tr style=\"text-align: right;\">\n",
       "      <th></th>\n",
       "      <th>match_id</th>\n",
       "      <th>home_team</th>\n",
       "      <th>away_team</th>\n",
       "      <th>date</th>\n",
       "      <th>home_score</th>\n",
       "      <th>away_score</th>\n",
       "      <th>last_updated</th>\n",
       "      <th>goal_diff</th>\n",
       "    </tr>\n",
       "  </thead>\n",
       "  <tbody>\n",
       "    <tr>\n",
       "      <th>0</th>\n",
       "      <td>1000</td>\n",
       "      <td>Arsenal</td>\n",
       "      <td>Man City</td>\n",
       "      <td>2025-04-02</td>\n",
       "      <td>5</td>\n",
       "      <td>4</td>\n",
       "      <td>2025-04-02 23:18:00</td>\n",
       "      <td>1</td>\n",
       "    </tr>\n",
       "    <tr>\n",
       "      <th>1</th>\n",
       "      <td>1001</td>\n",
       "      <td>Spurs</td>\n",
       "      <td>Arsenal</td>\n",
       "      <td>2025-04-02</td>\n",
       "      <td>0</td>\n",
       "      <td>0</td>\n",
       "      <td>2025-04-02 09:50:00</td>\n",
       "      <td>0</td>\n",
       "    </tr>\n",
       "    <tr>\n",
       "      <th>2</th>\n",
       "      <td>1002</td>\n",
       "      <td>Chelsea</td>\n",
       "      <td>Man City</td>\n",
       "      <td>2025-04-03</td>\n",
       "      <td>1</td>\n",
       "      <td>2</td>\n",
       "      <td>2025-04-03 06:24:00</td>\n",
       "      <td>-1</td>\n",
       "    </tr>\n",
       "    <tr>\n",
       "      <th>3</th>\n",
       "      <td>1003</td>\n",
       "      <td>Barcelona</td>\n",
       "      <td>Bayern</td>\n",
       "      <td>2025-04-03</td>\n",
       "      <td>3</td>\n",
       "      <td>5</td>\n",
       "      <td>2025-04-03 06:46:00</td>\n",
       "      <td>-2</td>\n",
       "    </tr>\n",
       "    <tr>\n",
       "      <th>4</th>\n",
       "      <td>1004</td>\n",
       "      <td>Real Madrid</td>\n",
       "      <td>Chelsea</td>\n",
       "      <td>2025-04-03</td>\n",
       "      <td>5</td>\n",
       "      <td>3</td>\n",
       "      <td>2025-04-03 01:17:00</td>\n",
       "      <td>2</td>\n",
       "    </tr>\n",
       "  </tbody>\n",
       "</table>\n",
       "</div>"
      ],
      "text/plain": [
       "   match_id    home_team away_team        date  home_score  away_score  \\\n",
       "0      1000      Arsenal  Man City  2025-04-02           5           4   \n",
       "1      1001        Spurs   Arsenal  2025-04-02           0           0   \n",
       "2      1002      Chelsea  Man City  2025-04-03           1           2   \n",
       "3      1003    Barcelona    Bayern  2025-04-03           3           5   \n",
       "4      1004  Real Madrid   Chelsea  2025-04-03           5           3   \n",
       "\n",
       "          last_updated  goal_diff  \n",
       "0  2025-04-02 23:18:00          1  \n",
       "1  2025-04-02 09:50:00          0  \n",
       "2  2025-04-03 06:24:00         -1  \n",
       "3  2025-04-03 06:46:00         -2  \n",
       "4  2025-04-03 01:17:00          2  "
      ]
     },
     "execution_count": 10,
     "metadata": {},
     "output_type": "execute_result"
    }
   ],
   "source": [
    "# Check top 5 from full_data\n",
    "pd.read_sql(\"SELECT * FROM full_data LIMIT 5\", conn_full)\n"
   ]
  },
  {
   "cell_type": "code",
   "execution_count": null,
   "id": "24fd72ef",
   "metadata": {},
   "outputs": [],
   "source": []
  }
 ],
 "metadata": {
  "kernelspec": {
   "display_name": "Python 3",
   "language": "python",
   "name": "python3"
  },
  "language_info": {
   "codemirror_mode": {
    "name": "ipython",
    "version": 3
   },
   "file_extension": ".py",
   "mimetype": "text/x-python",
   "name": "python",
   "nbconvert_exporter": "python",
   "pygments_lexer": "ipython3",
   "version": "3.11.9"
  }
 },
 "nbformat": 4,
 "nbformat_minor": 5
}
