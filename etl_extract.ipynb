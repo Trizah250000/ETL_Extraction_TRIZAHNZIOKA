{
 "cells": [
  {
   "cell_type": "code",
   "execution_count": 6,
   "id": "ccd6548e",
   "metadata": {},
   "outputs": [
    {
     "data": {
      "application/vnd.microsoft.datawrangler.viewer.v0+json": {
       "columns": [
        {
         "name": "index",
         "rawType": "int64",
         "type": "integer"
        },
        {
         "name": "match_id",
         "rawType": "int64",
         "type": "integer"
        },
        {
         "name": "home_team",
         "rawType": "object",
         "type": "string"
        },
        {
         "name": "away_team",
         "rawType": "object",
         "type": "string"
        },
        {
         "name": "date",
         "rawType": "object",
         "type": "string"
        },
        {
         "name": "home_score",
         "rawType": "int64",
         "type": "integer"
        },
        {
         "name": "away_score",
         "rawType": "int64",
         "type": "integer"
        },
        {
         "name": "last_updated",
         "rawType": "object",
         "type": "string"
        }
       ],
       "ref": "3b1da224-a933-4a21-8994-efab2aed9e1a",
       "rows": [
        [
         "0",
         "1000",
         "Chelsea",
         "Man United",
         "2025-04-02",
         "0",
         "1",
         "2025-04-02T03:07:00"
        ],
        [
         "1",
         "1001",
         "Man City",
         "PSG",
         "2025-04-02",
         "2",
         "2",
         "2025-04-02T18:54:00"
        ],
        [
         "2",
         "1002",
         "Barcelona",
         "Spurs",
         "2025-04-02",
         "2",
         "3",
         "2025-04-02T11:57:00"
        ],
        [
         "3",
         "1003",
         "Man United",
         "PSG",
         "2025-04-02",
         "5",
         "2",
         "2025-04-02T13:37:00"
        ],
        [
         "4",
         "1004",
         "Arsenal",
         "PSG",
         "2025-04-03",
         "0",
         "1",
         "2025-04-03T08:53:00"
        ],
        [
         "5",
         "1005",
         "Bayern",
         "Man City",
         "2025-04-03",
         "1",
         "3",
         "2025-04-03T13:24:00"
        ],
        [
         "6",
         "1006",
         "Real Madrid",
         "Chelsea",
         "2025-04-04",
         "3",
         "5",
         "2025-04-04T20:09:00"
        ],
        [
         "7",
         "1007",
         "Man United",
         "Chelsea",
         "2025-04-04",
         "0",
         "3",
         "2025-04-04T16:03:00"
        ],
        [
         "8",
         "1008",
         "Liverpool",
         "PSG",
         "2025-04-04",
         "3",
         "5",
         "2025-04-04T08:04:00"
        ],
        [
         "9",
         "1009",
         "Barcelona",
         "Chelsea",
         "2025-04-04",
         "3",
         "3",
         "2025-04-04T19:47:00"
        ],
        [
         "10",
         "1010",
         "Spurs",
         "Liverpool",
         "2025-04-04",
         "4",
         "2",
         "2025-04-04T10:21:00"
        ],
        [
         "11",
         "1011",
         "Man City",
         "Barcelona",
         "2025-04-05",
         "0",
         "0",
         "2025-04-05T08:40:00"
        ],
        [
         "12",
         "1012",
         "Liverpool",
         "Arsenal",
         "2025-04-05",
         "1",
         "1",
         "2025-04-05T14:44:00"
        ],
        [
         "13",
         "1013",
         "Man United",
         "Arsenal",
         "2025-04-05",
         "0",
         "5",
         "2025-04-05T01:53:00"
        ],
        [
         "14",
         "1014",
         "Man City",
         "PSG",
         "2025-04-06",
         "4",
         "4",
         "2025-04-06T22:44:00"
        ],
        [
         "15",
         "1015",
         "Man City",
         "Liverpool",
         "2025-04-06",
         "1",
         "4",
         "2025-04-06T12:40:00"
        ],
        [
         "16",
         "1016",
         "Barcelona",
         "Arsenal",
         "2025-04-06",
         "2",
         "0",
         "2025-04-06T05:12:00"
        ],
        [
         "17",
         "1017",
         "Real Madrid",
         "Man United",
         "2025-04-06",
         "5",
         "5",
         "2025-04-06T16:20:00"
        ],
        [
         "18",
         "1018",
         "Man City",
         "Liverpool",
         "2025-04-06",
         "5",
         "4",
         "2025-04-06T02:48:00"
        ],
        [
         "19",
         "1019",
         "Man United",
         "Liverpool",
         "2025-04-07",
         "1",
         "3",
         "2025-04-07T08:30:00"
        ],
        [
         "20",
         "1020",
         "Chelsea",
         "Barcelona",
         "2025-04-07",
         "2",
         "1",
         "2025-04-07T22:03:00"
        ],
        [
         "21",
         "1021",
         "Bayern",
         "Man City",
         "2025-04-07",
         "5",
         "4",
         "2025-04-07T10:23:00"
        ],
        [
         "22",
         "1022",
         "Arsenal",
         "Man City",
         "2025-04-08",
         "0",
         "2",
         "2025-04-08T10:18:00"
        ],
        [
         "23",
         "1023",
         "Arsenal",
         "Liverpool",
         "2025-04-08",
         "4",
         "3",
         "2025-04-08T16:24:00"
        ],
        [
         "24",
         "1024",
         "Real Madrid",
         "Barcelona",
         "2025-04-08",
         "1",
         "3",
         "2025-04-08T22:23:00"
        ],
        [
         "25",
         "1025",
         "Bayern",
         "Man United",
         "2025-04-08",
         "1",
         "4",
         "2025-04-08T02:41:00"
        ],
        [
         "26",
         "1026",
         "Real Madrid",
         "Man United",
         "2025-04-08",
         "2",
         "3",
         "2025-04-08T07:18:00"
        ],
        [
         "27",
         "1027",
         "Chelsea",
         "Bayern",
         "2025-04-09",
         "2",
         "4",
         "2025-04-09T12:49:00"
        ],
        [
         "28",
         "1028",
         "Barcelona",
         "Man City",
         "2025-04-09",
         "3",
         "3",
         "2025-04-09T09:28:00"
        ],
        [
         "29",
         "1029",
         "Bayern",
         "Real Madrid",
         "2025-04-10",
         "1",
         "1",
         "2025-04-10T23:59:00"
        ],
        [
         "30",
         "1030",
         "Liverpool",
         "Bayern",
         "2025-04-10",
         "1",
         "4",
         "2025-04-10T03:07:00"
        ],
        [
         "31",
         "1031",
         "Chelsea",
         "Bayern",
         "2025-04-10",
         "0",
         "4",
         "2025-04-10T18:43:00"
        ],
        [
         "32",
         "1032",
         "Arsenal",
         "Spurs",
         "2025-04-11",
         "1",
         "4",
         "2025-04-11T05:27:00"
        ],
        [
         "33",
         "1033",
         "Real Madrid",
         "Man United",
         "2025-04-11",
         "5",
         "1",
         "2025-04-11T13:41:00"
        ],
        [
         "34",
         "1034",
         "Liverpool",
         "Spurs",
         "2025-04-11",
         "5",
         "5",
         "2025-04-11T02:02:00"
        ],
        [
         "35",
         "1035",
         "PSG",
         "Chelsea",
         "2025-04-12",
         "4",
         "0",
         "2025-04-12T00:45:00"
        ],
        [
         "36",
         "1036",
         "Man United",
         "Spurs",
         "2025-04-12",
         "0",
         "0",
         "2025-04-12T05:59:00"
        ],
        [
         "37",
         "1037",
         "Man United",
         "Arsenal",
         "2025-04-12",
         "3",
         "1",
         "2025-04-12T23:11:00"
        ],
        [
         "38",
         "1038",
         "Liverpool",
         "Man City",
         "2025-04-12",
         "1",
         "1",
         "2025-04-12T17:43:00"
        ],
        [
         "39",
         "1039",
         "Arsenal",
         "Man City",
         "2025-04-13",
         "2",
         "0",
         "2025-04-13T07:42:00"
        ],
        [
         "40",
         "1040",
         "Chelsea",
         "Liverpool",
         "2025-04-13",
         "4",
         "2",
         "2025-04-13T15:06:00"
        ],
        [
         "41",
         "1041",
         "Real Madrid",
         "Chelsea",
         "2025-04-13",
         "5",
         "2",
         "2025-04-13T09:55:00"
        ],
        [
         "42",
         "1042",
         "Bayern",
         "PSG",
         "2025-04-13",
         "2",
         "1",
         "2025-04-13T08:33:00"
        ],
        [
         "43",
         "1043",
         "PSG",
         "Bayern",
         "2025-04-14",
         "2",
         "5",
         "2025-04-14T03:27:00"
        ],
        [
         "44",
         "1044",
         "Liverpool",
         "Real Madrid",
         "2025-04-14",
         "5",
         "1",
         "2025-04-14T12:35:00"
        ],
        [
         "45",
         "1045",
         "Liverpool",
         "PSG",
         "2025-04-14",
         "1",
         "3",
         "2025-04-14T23:06:00"
        ],
        [
         "46",
         "1046",
         "Spurs",
         "Bayern",
         "2025-04-14",
         "4",
         "0",
         "2025-04-14T23:14:00"
        ],
        [
         "47",
         "1047",
         "Man United",
         "Barcelona",
         "2025-04-14",
         "3",
         "1",
         "2025-04-14T16:00:00"
        ],
        [
         "48",
         "1048",
         "Bayern",
         "Man City",
         "2025-04-15",
         "5",
         "1",
         "2025-04-15T01:37:00"
        ],
        [
         "49",
         "1049",
         "Arsenal",
         "Man United",
         "2025-04-15",
         "1",
         "2",
         "2025-04-15T18:15:00"
        ]
       ],
       "shape": {
        "columns": 7,
        "rows": 193
       }
      },
      "text/html": [
       "<div>\n",
       "<style scoped>\n",
       "    .dataframe tbody tr th:only-of-type {\n",
       "        vertical-align: middle;\n",
       "    }\n",
       "\n",
       "    .dataframe tbody tr th {\n",
       "        vertical-align: top;\n",
       "    }\n",
       "\n",
       "    .dataframe thead th {\n",
       "        text-align: right;\n",
       "    }\n",
       "</style>\n",
       "<table border=\"1\" class=\"dataframe\">\n",
       "  <thead>\n",
       "    <tr style=\"text-align: right;\">\n",
       "      <th></th>\n",
       "      <th>match_id</th>\n",
       "      <th>home_team</th>\n",
       "      <th>away_team</th>\n",
       "      <th>date</th>\n",
       "      <th>home_score</th>\n",
       "      <th>away_score</th>\n",
       "      <th>last_updated</th>\n",
       "    </tr>\n",
       "  </thead>\n",
       "  <tbody>\n",
       "    <tr>\n",
       "      <th>0</th>\n",
       "      <td>1000</td>\n",
       "      <td>Chelsea</td>\n",
       "      <td>Man United</td>\n",
       "      <td>2025-04-02</td>\n",
       "      <td>0</td>\n",
       "      <td>1</td>\n",
       "      <td>2025-04-02T03:07:00</td>\n",
       "    </tr>\n",
       "    <tr>\n",
       "      <th>1</th>\n",
       "      <td>1001</td>\n",
       "      <td>Man City</td>\n",
       "      <td>PSG</td>\n",
       "      <td>2025-04-02</td>\n",
       "      <td>2</td>\n",
       "      <td>2</td>\n",
       "      <td>2025-04-02T18:54:00</td>\n",
       "    </tr>\n",
       "    <tr>\n",
       "      <th>2</th>\n",
       "      <td>1002</td>\n",
       "      <td>Barcelona</td>\n",
       "      <td>Spurs</td>\n",
       "      <td>2025-04-02</td>\n",
       "      <td>2</td>\n",
       "      <td>3</td>\n",
       "      <td>2025-04-02T11:57:00</td>\n",
       "    </tr>\n",
       "    <tr>\n",
       "      <th>3</th>\n",
       "      <td>1003</td>\n",
       "      <td>Man United</td>\n",
       "      <td>PSG</td>\n",
       "      <td>2025-04-02</td>\n",
       "      <td>5</td>\n",
       "      <td>2</td>\n",
       "      <td>2025-04-02T13:37:00</td>\n",
       "    </tr>\n",
       "    <tr>\n",
       "      <th>4</th>\n",
       "      <td>1004</td>\n",
       "      <td>Arsenal</td>\n",
       "      <td>PSG</td>\n",
       "      <td>2025-04-03</td>\n",
       "      <td>0</td>\n",
       "      <td>1</td>\n",
       "      <td>2025-04-03T08:53:00</td>\n",
       "    </tr>\n",
       "    <tr>\n",
       "      <th>...</th>\n",
       "      <td>...</td>\n",
       "      <td>...</td>\n",
       "      <td>...</td>\n",
       "      <td>...</td>\n",
       "      <td>...</td>\n",
       "      <td>...</td>\n",
       "      <td>...</td>\n",
       "    </tr>\n",
       "    <tr>\n",
       "      <th>188</th>\n",
       "      <td>1188</td>\n",
       "      <td>Arsenal</td>\n",
       "      <td>Bayern</td>\n",
       "      <td>2025-05-30</td>\n",
       "      <td>5</td>\n",
       "      <td>3</td>\n",
       "      <td>2025-05-30T20:18:00</td>\n",
       "    </tr>\n",
       "    <tr>\n",
       "      <th>189</th>\n",
       "      <td>1189</td>\n",
       "      <td>Chelsea</td>\n",
       "      <td>Man City</td>\n",
       "      <td>2025-05-30</td>\n",
       "      <td>5</td>\n",
       "      <td>2</td>\n",
       "      <td>2025-05-30T13:00:00</td>\n",
       "    </tr>\n",
       "    <tr>\n",
       "      <th>190</th>\n",
       "      <td>1190</td>\n",
       "      <td>PSG</td>\n",
       "      <td>Barcelona</td>\n",
       "      <td>2025-05-30</td>\n",
       "      <td>0</td>\n",
       "      <td>4</td>\n",
       "      <td>2025-05-30T19:43:00</td>\n",
       "    </tr>\n",
       "    <tr>\n",
       "      <th>191</th>\n",
       "      <td>1191</td>\n",
       "      <td>PSG</td>\n",
       "      <td>Liverpool</td>\n",
       "      <td>2025-05-31</td>\n",
       "      <td>3</td>\n",
       "      <td>5</td>\n",
       "      <td>2025-05-31T14:39:00</td>\n",
       "    </tr>\n",
       "    <tr>\n",
       "      <th>192</th>\n",
       "      <td>1192</td>\n",
       "      <td>Arsenal</td>\n",
       "      <td>Liverpool</td>\n",
       "      <td>2025-05-31</td>\n",
       "      <td>1</td>\n",
       "      <td>4</td>\n",
       "      <td>2025-05-31T21:04:00</td>\n",
       "    </tr>\n",
       "  </tbody>\n",
       "</table>\n",
       "<p>193 rows × 7 columns</p>\n",
       "</div>"
      ],
      "text/plain": [
       "     match_id   home_team   away_team        date  home_score  away_score  \\\n",
       "0        1000     Chelsea  Man United  2025-04-02           0           1   \n",
       "1        1001    Man City         PSG  2025-04-02           2           2   \n",
       "2        1002   Barcelona       Spurs  2025-04-02           2           3   \n",
       "3        1003  Man United         PSG  2025-04-02           5           2   \n",
       "4        1004     Arsenal         PSG  2025-04-03           0           1   \n",
       "..        ...         ...         ...         ...         ...         ...   \n",
       "188      1188     Arsenal      Bayern  2025-05-30           5           3   \n",
       "189      1189     Chelsea    Man City  2025-05-30           5           2   \n",
       "190      1190         PSG   Barcelona  2025-05-30           0           4   \n",
       "191      1191         PSG   Liverpool  2025-05-31           3           5   \n",
       "192      1192     Arsenal   Liverpool  2025-05-31           1           4   \n",
       "\n",
       "            last_updated  \n",
       "0    2025-04-02T03:07:00  \n",
       "1    2025-04-02T18:54:00  \n",
       "2    2025-04-02T11:57:00  \n",
       "3    2025-04-02T13:37:00  \n",
       "4    2025-04-03T08:53:00  \n",
       "..                   ...  \n",
       "188  2025-05-30T20:18:00  \n",
       "189  2025-05-30T13:00:00  \n",
       "190  2025-05-30T19:43:00  \n",
       "191  2025-05-31T14:39:00  \n",
       "192  2025-05-31T21:04:00  \n",
       "\n",
       "[193 rows x 7 columns]"
      ]
     },
     "execution_count": 6,
     "metadata": {},
     "output_type": "execute_result"
    }
   ],
   "source": [
    "import pandas as pd\n",
    "import numpy as np\n",
    "from datetime import datetime, timedelta\n",
    "import random\n",
    "\n",
    "teams = ['Arsenal', 'Chelsea', 'Liverpool', 'Man City', 'Man United', 'Spurs', 'Barcelona', 'Real Madrid', 'PSG', 'Bayern']\n",
    "data = []\n",
    "start_date = datetime(2025, 4, 1)\n",
    "\n",
    "match_id_counter = 1000\n",
    "\n",
    "for i in range(1, 61):  # 60 days\n",
    "    date = start_date + timedelta(days=i)\n",
    "    num_matches = random.randint(2, 5)  # 2–5 matches per day\n",
    "    for _ in range(num_matches):\n",
    "        home, away = random.sample(teams, 2)\n",
    "        home_score = random.randint(0, 5)\n",
    "        away_score = random.randint(0, 5)\n",
    "        last_updated = date + timedelta(hours=random.randint(0, 23), minutes=random.randint(0, 59))\n",
    "\n",
    "        data.append({\n",
    "            'match_id': match_id_counter,\n",
    "            'home_team': home,\n",
    "            'away_team': away,\n",
    "            'date': date.date().isoformat(),\n",
    "            'home_score': home_score,\n",
    "            'away_score': away_score,\n",
    "            'last_updated': last_updated.isoformat()\n",
    "        })\n",
    "        match_id_counter += 1\n",
    "\n",
    "df = pd.DataFrame(data)\n",
    "df.to_csv('custom_data.csv', index=False)\n",
    "df\n"
   ]
  },
  {
   "cell_type": "code",
   "execution_count": 2,
   "id": "6761e287",
   "metadata": {},
   "outputs": [
    {
     "name": "stdout",
     "output_type": "stream",
     "text": [
      "Extracted 203 rows fully.\n"
     ]
    },
    {
     "data": {
      "application/vnd.microsoft.datawrangler.viewer.v0+json": {
       "columns": [
        {
         "name": "index",
         "rawType": "int64",
         "type": "integer"
        },
        {
         "name": "match_id",
         "rawType": "int64",
         "type": "integer"
        },
        {
         "name": "home_team",
         "rawType": "object",
         "type": "string"
        },
        {
         "name": "away_team",
         "rawType": "object",
         "type": "string"
        },
        {
         "name": "date",
         "rawType": "object",
         "type": "string"
        },
        {
         "name": "home_score",
         "rawType": "int64",
         "type": "integer"
        },
        {
         "name": "away_score",
         "rawType": "int64",
         "type": "integer"
        },
        {
         "name": "last_updated",
         "rawType": "datetime64[ns]",
         "type": "datetime"
        }
       ],
       "ref": "b1174245-531f-4ab3-bea0-8e981facd587",
       "rows": [
        [
         "0",
         "1000",
         "Chelsea",
         "Man United",
         "2025-04-02",
         "3",
         "5",
         "2025-04-02 14:08:00"
        ],
        [
         "1",
         "1001",
         "Man United",
         "Barcelona",
         "2025-04-02",
         "2",
         "5",
         "2025-04-02 10:29:00"
        ],
        [
         "2",
         "1002",
         "Real Madrid",
         "Man City",
         "2025-04-03",
         "2",
         "3",
         "2025-04-03 15:51:00"
        ],
        [
         "3",
         "1003",
         "Man United",
         "Barcelona",
         "2025-04-03",
         "5",
         "1",
         "2025-04-03 14:38:00"
        ],
        [
         "4",
         "1004",
         "Spurs",
         "Real Madrid",
         "2025-04-03",
         "1",
         "2",
         "2025-04-03 00:47:00"
        ]
       ],
       "shape": {
        "columns": 7,
        "rows": 5
       }
      },
      "text/html": [
       "<div>\n",
       "<style scoped>\n",
       "    .dataframe tbody tr th:only-of-type {\n",
       "        vertical-align: middle;\n",
       "    }\n",
       "\n",
       "    .dataframe tbody tr th {\n",
       "        vertical-align: top;\n",
       "    }\n",
       "\n",
       "    .dataframe thead th {\n",
       "        text-align: right;\n",
       "    }\n",
       "</style>\n",
       "<table border=\"1\" class=\"dataframe\">\n",
       "  <thead>\n",
       "    <tr style=\"text-align: right;\">\n",
       "      <th></th>\n",
       "      <th>match_id</th>\n",
       "      <th>home_team</th>\n",
       "      <th>away_team</th>\n",
       "      <th>date</th>\n",
       "      <th>home_score</th>\n",
       "      <th>away_score</th>\n",
       "      <th>last_updated</th>\n",
       "    </tr>\n",
       "  </thead>\n",
       "  <tbody>\n",
       "    <tr>\n",
       "      <th>0</th>\n",
       "      <td>1000</td>\n",
       "      <td>Chelsea</td>\n",
       "      <td>Man United</td>\n",
       "      <td>2025-04-02</td>\n",
       "      <td>3</td>\n",
       "      <td>5</td>\n",
       "      <td>2025-04-02 14:08:00</td>\n",
       "    </tr>\n",
       "    <tr>\n",
       "      <th>1</th>\n",
       "      <td>1001</td>\n",
       "      <td>Man United</td>\n",
       "      <td>Barcelona</td>\n",
       "      <td>2025-04-02</td>\n",
       "      <td>2</td>\n",
       "      <td>5</td>\n",
       "      <td>2025-04-02 10:29:00</td>\n",
       "    </tr>\n",
       "    <tr>\n",
       "      <th>2</th>\n",
       "      <td>1002</td>\n",
       "      <td>Real Madrid</td>\n",
       "      <td>Man City</td>\n",
       "      <td>2025-04-03</td>\n",
       "      <td>2</td>\n",
       "      <td>3</td>\n",
       "      <td>2025-04-03 15:51:00</td>\n",
       "    </tr>\n",
       "    <tr>\n",
       "      <th>3</th>\n",
       "      <td>1003</td>\n",
       "      <td>Man United</td>\n",
       "      <td>Barcelona</td>\n",
       "      <td>2025-04-03</td>\n",
       "      <td>5</td>\n",
       "      <td>1</td>\n",
       "      <td>2025-04-03 14:38:00</td>\n",
       "    </tr>\n",
       "    <tr>\n",
       "      <th>4</th>\n",
       "      <td>1004</td>\n",
       "      <td>Spurs</td>\n",
       "      <td>Real Madrid</td>\n",
       "      <td>2025-04-03</td>\n",
       "      <td>1</td>\n",
       "      <td>2</td>\n",
       "      <td>2025-04-03 00:47:00</td>\n",
       "    </tr>\n",
       "  </tbody>\n",
       "</table>\n",
       "</div>"
      ],
      "text/plain": [
       "   match_id    home_team    away_team        date  home_score  away_score  \\\n",
       "0      1000      Chelsea   Man United  2025-04-02           3           5   \n",
       "1      1001   Man United    Barcelona  2025-04-02           2           5   \n",
       "2      1002  Real Madrid     Man City  2025-04-03           2           3   \n",
       "3      1003   Man United    Barcelona  2025-04-03           5           1   \n",
       "4      1004        Spurs  Real Madrid  2025-04-03           1           2   \n",
       "\n",
       "         last_updated  \n",
       "0 2025-04-02 14:08:00  \n",
       "1 2025-04-02 10:29:00  \n",
       "2 2025-04-03 15:51:00  \n",
       "3 2025-04-03 14:38:00  \n",
       "4 2025-04-03 00:47:00  "
      ]
     },
     "execution_count": 2,
     "metadata": {},
     "output_type": "execute_result"
    }
   ],
   "source": [
    "# FULL EXTRACTION\n",
    "df_full = pd.read_csv(\"custom_data.csv\", parse_dates=[\"last_updated\"])\n",
    "print(f\"Extracted {len(df_full)} rows fully.\")\n",
    "df_full.head()\n"
   ]
  },
  {
   "cell_type": "code",
   "execution_count": 3,
   "id": "cdc76777",
   "metadata": {},
   "outputs": [],
   "source": [
    "# Simulate previous extraction (only run ONCE)\n",
    "with open(\"last_extraction.txt\", \"w\") as f:\n",
    "    f.write(\"2025-04-20 12:00:00\")\n"
   ]
  },
  {
   "cell_type": "code",
   "execution_count": 4,
   "id": "889a12d8",
   "metadata": {},
   "outputs": [
    {
     "name": "stdout",
     "output_type": "stream",
     "text": [
      "Extracted 135 new/updated rows since 2025-04-20 12:00:00.\n"
     ]
    },
    {
     "data": {
      "application/vnd.microsoft.datawrangler.viewer.v0+json": {
       "columns": [
        {
         "name": "index",
         "rawType": "int64",
         "type": "integer"
        },
        {
         "name": "match_id",
         "rawType": "int64",
         "type": "integer"
        },
        {
         "name": "home_team",
         "rawType": "object",
         "type": "string"
        },
        {
         "name": "away_team",
         "rawType": "object",
         "type": "string"
        },
        {
         "name": "date",
         "rawType": "object",
         "type": "string"
        },
        {
         "name": "home_score",
         "rawType": "int64",
         "type": "integer"
        },
        {
         "name": "away_score",
         "rawType": "int64",
         "type": "integer"
        },
        {
         "name": "last_updated",
         "rawType": "datetime64[ns]",
         "type": "datetime"
        }
       ],
       "ref": "af5507e3-463d-463b-b2b5-dfd2fa27c0f9",
       "rows": [
        [
         "68",
         "1068",
         "Liverpool",
         "Bayern",
         "2025-04-21",
         "2",
         "2",
         "2025-04-21 11:06:00"
        ],
        [
         "69",
         "1069",
         "Arsenal",
         "Spurs",
         "2025-04-21",
         "2",
         "3",
         "2025-04-21 08:55:00"
        ],
        [
         "70",
         "1070",
         "Man City",
         "Spurs",
         "2025-04-21",
         "2",
         "4",
         "2025-04-21 03:45:00"
        ],
        [
         "71",
         "1071",
         "Arsenal",
         "Barcelona",
         "2025-04-21",
         "0",
         "2",
         "2025-04-21 09:57:00"
        ],
        [
         "72",
         "1072",
         "Barcelona",
         "PSG",
         "2025-04-21",
         "0",
         "4",
         "2025-04-21 23:14:00"
        ]
       ],
       "shape": {
        "columns": 7,
        "rows": 5
       }
      },
      "text/html": [
       "<div>\n",
       "<style scoped>\n",
       "    .dataframe tbody tr th:only-of-type {\n",
       "        vertical-align: middle;\n",
       "    }\n",
       "\n",
       "    .dataframe tbody tr th {\n",
       "        vertical-align: top;\n",
       "    }\n",
       "\n",
       "    .dataframe thead th {\n",
       "        text-align: right;\n",
       "    }\n",
       "</style>\n",
       "<table border=\"1\" class=\"dataframe\">\n",
       "  <thead>\n",
       "    <tr style=\"text-align: right;\">\n",
       "      <th></th>\n",
       "      <th>match_id</th>\n",
       "      <th>home_team</th>\n",
       "      <th>away_team</th>\n",
       "      <th>date</th>\n",
       "      <th>home_score</th>\n",
       "      <th>away_score</th>\n",
       "      <th>last_updated</th>\n",
       "    </tr>\n",
       "  </thead>\n",
       "  <tbody>\n",
       "    <tr>\n",
       "      <th>68</th>\n",
       "      <td>1068</td>\n",
       "      <td>Liverpool</td>\n",
       "      <td>Bayern</td>\n",
       "      <td>2025-04-21</td>\n",
       "      <td>2</td>\n",
       "      <td>2</td>\n",
       "      <td>2025-04-21 11:06:00</td>\n",
       "    </tr>\n",
       "    <tr>\n",
       "      <th>69</th>\n",
       "      <td>1069</td>\n",
       "      <td>Arsenal</td>\n",
       "      <td>Spurs</td>\n",
       "      <td>2025-04-21</td>\n",
       "      <td>2</td>\n",
       "      <td>3</td>\n",
       "      <td>2025-04-21 08:55:00</td>\n",
       "    </tr>\n",
       "    <tr>\n",
       "      <th>70</th>\n",
       "      <td>1070</td>\n",
       "      <td>Man City</td>\n",
       "      <td>Spurs</td>\n",
       "      <td>2025-04-21</td>\n",
       "      <td>2</td>\n",
       "      <td>4</td>\n",
       "      <td>2025-04-21 03:45:00</td>\n",
       "    </tr>\n",
       "    <tr>\n",
       "      <th>71</th>\n",
       "      <td>1071</td>\n",
       "      <td>Arsenal</td>\n",
       "      <td>Barcelona</td>\n",
       "      <td>2025-04-21</td>\n",
       "      <td>0</td>\n",
       "      <td>2</td>\n",
       "      <td>2025-04-21 09:57:00</td>\n",
       "    </tr>\n",
       "    <tr>\n",
       "      <th>72</th>\n",
       "      <td>1072</td>\n",
       "      <td>Barcelona</td>\n",
       "      <td>PSG</td>\n",
       "      <td>2025-04-21</td>\n",
       "      <td>0</td>\n",
       "      <td>4</td>\n",
       "      <td>2025-04-21 23:14:00</td>\n",
       "    </tr>\n",
       "  </tbody>\n",
       "</table>\n",
       "</div>"
      ],
      "text/plain": [
       "    match_id  home_team  away_team        date  home_score  away_score  \\\n",
       "68      1068  Liverpool     Bayern  2025-04-21           2           2   \n",
       "69      1069    Arsenal      Spurs  2025-04-21           2           3   \n",
       "70      1070   Man City      Spurs  2025-04-21           2           4   \n",
       "71      1071    Arsenal  Barcelona  2025-04-21           0           2   \n",
       "72      1072  Barcelona        PSG  2025-04-21           0           4   \n",
       "\n",
       "          last_updated  \n",
       "68 2025-04-21 11:06:00  \n",
       "69 2025-04-21 08:55:00  \n",
       "70 2025-04-21 03:45:00  \n",
       "71 2025-04-21 09:57:00  \n",
       "72 2025-04-21 23:14:00  "
      ]
     },
     "execution_count": 4,
     "metadata": {},
     "output_type": "execute_result"
    }
   ],
   "source": [
    "with open(\"last_extraction.txt\", \"r\") as f:\n",
    "    last_extraction = f.read().strip()\n",
    "\n",
    "df = pd.read_csv(\"custom_data.csv\", parse_dates=[\"last_updated\"])\n",
    "last_extraction_time = pd.to_datetime(last_extraction)\n",
    "\n",
    "df_incremental = df[df['last_updated'] > last_extraction_time]\n",
    "print(f\"Extracted {len(df_incremental)} new/updated rows since {last_extraction}.\")\n",
    "df_incremental.head()\n"
   ]
  },
  {
   "cell_type": "code",
   "execution_count": 5,
   "id": "8523121c",
   "metadata": {},
   "outputs": [
    {
     "name": "stdout",
     "output_type": "stream",
     "text": [
      "Updated last_extraction.txt to 2025-05-31 17:47:00\n"
     ]
    }
   ],
   "source": [
    "new_checkpoint = df['last_updated'].max()\n",
    "with open(\"last_extraction.txt\", \"w\") as f:\n",
    "    f.write(new_checkpoint.isoformat())\n",
    "print(f\"Updated last_extraction.txt to {new_checkpoint}\")\n"
   ]
  }
 ],
 "metadata": {
  "kernelspec": {
   "display_name": "Python 3",
   "language": "python",
   "name": "python3"
  },
  "language_info": {
   "codemirror_mode": {
    "name": "ipython",
    "version": 3
   },
   "file_extension": ".py",
   "mimetype": "text/x-python",
   "name": "python",
   "nbconvert_exporter": "python",
   "pygments_lexer": "ipython3",
   "version": "3.11.9"
  }
 },
 "nbformat": 4,
 "nbformat_minor": 5
}
