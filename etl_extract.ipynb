{
 "cells": [
  {
   "cell_type": "code",
   "execution_count": 1,
   "id": "ccd6548e",
   "metadata": {},
   "outputs": [
    {
     "data": {
      "application/vnd.microsoft.datawrangler.viewer.v0+json": {
       "columns": [
        {
         "name": "index",
         "rawType": "int64",
         "type": "integer"
        },
        {
         "name": "match_id",
         "rawType": "int64",
         "type": "integer"
        },
        {
         "name": "home_team",
         "rawType": "object",
         "type": "string"
        },
        {
         "name": "away_team",
         "rawType": "object",
         "type": "string"
        },
        {
         "name": "date",
         "rawType": "object",
         "type": "string"
        },
        {
         "name": "home_score",
         "rawType": "int64",
         "type": "integer"
        },
        {
         "name": "away_score",
         "rawType": "int64",
         "type": "integer"
        },
        {
         "name": "last_updated",
         "rawType": "object",
         "type": "string"
        }
       ],
       "ref": "3e1baa6b-8b8f-46c9-b8dd-3208f4a5b949",
       "rows": [
        [
         "0",
         "1000",
         "PSG",
         "Man City",
         "2025-04-02",
         "4",
         "3",
         "2025-04-02T04:14:00"
        ],
        [
         "1",
         "1001",
         "Arsenal",
         "Spurs",
         "2025-04-02",
         "2",
         "0",
         "2025-04-02T08:36:00"
        ],
        [
         "2",
         "1002",
         "Spurs",
         "Liverpool",
         "2025-04-02",
         "5",
         "2",
         "2025-04-02T08:56:00"
        ],
        [
         "3",
         "1003",
         "Arsenal",
         "Real Madrid",
         "2025-04-02",
         "0",
         "3",
         "2025-04-02T22:58:00"
        ],
        [
         "4",
         "1004",
         "Man United",
         "Barcelona",
         "2025-04-02",
         "2",
         "5",
         "2025-04-02T06:01:00"
        ]
       ],
       "shape": {
        "columns": 7,
        "rows": 5
       }
      },
      "text/html": [
       "<div>\n",
       "<style scoped>\n",
       "    .dataframe tbody tr th:only-of-type {\n",
       "        vertical-align: middle;\n",
       "    }\n",
       "\n",
       "    .dataframe tbody tr th {\n",
       "        vertical-align: top;\n",
       "    }\n",
       "\n",
       "    .dataframe thead th {\n",
       "        text-align: right;\n",
       "    }\n",
       "</style>\n",
       "<table border=\"1\" class=\"dataframe\">\n",
       "  <thead>\n",
       "    <tr style=\"text-align: right;\">\n",
       "      <th></th>\n",
       "      <th>match_id</th>\n",
       "      <th>home_team</th>\n",
       "      <th>away_team</th>\n",
       "      <th>date</th>\n",
       "      <th>home_score</th>\n",
       "      <th>away_score</th>\n",
       "      <th>last_updated</th>\n",
       "    </tr>\n",
       "  </thead>\n",
       "  <tbody>\n",
       "    <tr>\n",
       "      <th>0</th>\n",
       "      <td>1000</td>\n",
       "      <td>PSG</td>\n",
       "      <td>Man City</td>\n",
       "      <td>2025-04-02</td>\n",
       "      <td>4</td>\n",
       "      <td>3</td>\n",
       "      <td>2025-04-02T04:14:00</td>\n",
       "    </tr>\n",
       "    <tr>\n",
       "      <th>1</th>\n",
       "      <td>1001</td>\n",
       "      <td>Arsenal</td>\n",
       "      <td>Spurs</td>\n",
       "      <td>2025-04-02</td>\n",
       "      <td>2</td>\n",
       "      <td>0</td>\n",
       "      <td>2025-04-02T08:36:00</td>\n",
       "    </tr>\n",
       "    <tr>\n",
       "      <th>2</th>\n",
       "      <td>1002</td>\n",
       "      <td>Spurs</td>\n",
       "      <td>Liverpool</td>\n",
       "      <td>2025-04-02</td>\n",
       "      <td>5</td>\n",
       "      <td>2</td>\n",
       "      <td>2025-04-02T08:56:00</td>\n",
       "    </tr>\n",
       "    <tr>\n",
       "      <th>3</th>\n",
       "      <td>1003</td>\n",
       "      <td>Arsenal</td>\n",
       "      <td>Real Madrid</td>\n",
       "      <td>2025-04-02</td>\n",
       "      <td>0</td>\n",
       "      <td>3</td>\n",
       "      <td>2025-04-02T22:58:00</td>\n",
       "    </tr>\n",
       "    <tr>\n",
       "      <th>4</th>\n",
       "      <td>1004</td>\n",
       "      <td>Man United</td>\n",
       "      <td>Barcelona</td>\n",
       "      <td>2025-04-02</td>\n",
       "      <td>2</td>\n",
       "      <td>5</td>\n",
       "      <td>2025-04-02T06:01:00</td>\n",
       "    </tr>\n",
       "  </tbody>\n",
       "</table>\n",
       "</div>"
      ],
      "text/plain": [
       "   match_id   home_team    away_team        date  home_score  away_score  \\\n",
       "0      1000         PSG     Man City  2025-04-02           4           3   \n",
       "1      1001     Arsenal        Spurs  2025-04-02           2           0   \n",
       "2      1002       Spurs    Liverpool  2025-04-02           5           2   \n",
       "3      1003     Arsenal  Real Madrid  2025-04-02           0           3   \n",
       "4      1004  Man United    Barcelona  2025-04-02           2           5   \n",
       "\n",
       "          last_updated  \n",
       "0  2025-04-02T04:14:00  \n",
       "1  2025-04-02T08:36:00  \n",
       "2  2025-04-02T08:56:00  \n",
       "3  2025-04-02T22:58:00  \n",
       "4  2025-04-02T06:01:00  "
      ]
     },
     "execution_count": 1,
     "metadata": {},
     "output_type": "execute_result"
    }
   ],
   "source": [
    "import pandas as pd\n",
    "import numpy as np\n",
    "from datetime import datetime, timedelta\n",
    "import random\n",
    "\n",
    "teams = ['Arsenal', 'Chelsea', 'Liverpool', 'Man City', 'Man United', 'Spurs', 'Barcelona', 'Real Madrid', 'PSG', 'Bayern']\n",
    "data = []\n",
    "start_date = datetime(2025, 4, 1)\n",
    "\n",
    "match_id_counter = 1000\n",
    "\n",
    "for i in range(1, 61):  # 60 days\n",
    "    date = start_date + timedelta(days=i)\n",
    "    num_matches = random.randint(2, 5)  # 2–5 matches per day\n",
    "    for _ in range(num_matches):\n",
    "        home, away = random.sample(teams, 2)\n",
    "        home_score = random.randint(0, 5)\n",
    "        away_score = random.randint(0, 5)\n",
    "        last_updated = date + timedelta(hours=random.randint(0, 23), minutes=random.randint(0, 59))\n",
    "\n",
    "        data.append({\n",
    "            'match_id': match_id_counter,\n",
    "            'home_team': home,\n",
    "            'away_team': away,\n",
    "            'date': date.date().isoformat(),\n",
    "            'home_score': home_score,\n",
    "            'away_score': away_score,\n",
    "            'last_updated': last_updated.isoformat()\n",
    "        })\n",
    "        match_id_counter += 1\n",
    "\n",
    "df = pd.DataFrame(data)\n",
    "df.to_csv('custom_data.csv', index=False)\n",
    "df.head()\n"
   ]
  },
  {
   "cell_type": "code",
   "execution_count": 44,
   "id": "6761e287",
   "metadata": {},
   "outputs": [
    {
     "name": "stdout",
     "output_type": "stream",
     "text": [
      "Extracted 197 rows fully.\n",
      "Columns: ['match_id', 'home_team', 'away_team', 'date', 'home_score', 'away_score', 'last_updated']\n"
     ]
    },
    {
     "data": {
      "application/vnd.microsoft.datawrangler.viewer.v0+json": {
       "columns": [
        {
         "name": "index",
         "rawType": "int64",
         "type": "integer"
        },
        {
         "name": "match_id",
         "rawType": "int64",
         "type": "integer"
        },
        {
         "name": "home_team",
         "rawType": "object",
         "type": "string"
        },
        {
         "name": "away_team",
         "rawType": "object",
         "type": "string"
        },
        {
         "name": "date",
         "rawType": "object",
         "type": "string"
        },
        {
         "name": "home_score",
         "rawType": "int64",
         "type": "integer"
        },
        {
         "name": "away_score",
         "rawType": "int64",
         "type": "integer"
        },
        {
         "name": "last_updated",
         "rawType": "object",
         "type": "string"
        }
       ],
       "ref": "f8fc2a0d-7c3b-4443-8acd-47b8e087a302",
       "rows": [
        [
         "0",
         "1000",
         "PSG",
         "Man City",
         "2025-04-02",
         "4",
         "3",
         "2025-04-02T04:14:00"
        ],
        [
         "1",
         "1001",
         "Arsenal",
         "Spurs",
         "2025-04-02",
         "2",
         "0",
         "2025-04-02T08:36:00"
        ],
        [
         "2",
         "1002",
         "Spurs",
         "Liverpool",
         "2025-04-02",
         "5",
         "2",
         "2025-04-02T08:56:00"
        ],
        [
         "3",
         "1003",
         "Arsenal",
         "Real Madrid",
         "2025-04-02",
         "0",
         "3",
         "2025-04-02T22:58:00"
        ],
        [
         "4",
         "1004",
         "Man United",
         "Barcelona",
         "2025-04-02",
         "2",
         "5",
         "2025-04-02T06:01:00"
        ]
       ],
       "shape": {
        "columns": 7,
        "rows": 5
       }
      },
      "text/html": [
       "<div>\n",
       "<style scoped>\n",
       "    .dataframe tbody tr th:only-of-type {\n",
       "        vertical-align: middle;\n",
       "    }\n",
       "\n",
       "    .dataframe tbody tr th {\n",
       "        vertical-align: top;\n",
       "    }\n",
       "\n",
       "    .dataframe thead th {\n",
       "        text-align: right;\n",
       "    }\n",
       "</style>\n",
       "<table border=\"1\" class=\"dataframe\">\n",
       "  <thead>\n",
       "    <tr style=\"text-align: right;\">\n",
       "      <th></th>\n",
       "      <th>match_id</th>\n",
       "      <th>home_team</th>\n",
       "      <th>away_team</th>\n",
       "      <th>date</th>\n",
       "      <th>home_score</th>\n",
       "      <th>away_score</th>\n",
       "      <th>last_updated</th>\n",
       "    </tr>\n",
       "  </thead>\n",
       "  <tbody>\n",
       "    <tr>\n",
       "      <th>0</th>\n",
       "      <td>1000</td>\n",
       "      <td>PSG</td>\n",
       "      <td>Man City</td>\n",
       "      <td>2025-04-02</td>\n",
       "      <td>4</td>\n",
       "      <td>3</td>\n",
       "      <td>2025-04-02T04:14:00</td>\n",
       "    </tr>\n",
       "    <tr>\n",
       "      <th>1</th>\n",
       "      <td>1001</td>\n",
       "      <td>Arsenal</td>\n",
       "      <td>Spurs</td>\n",
       "      <td>2025-04-02</td>\n",
       "      <td>2</td>\n",
       "      <td>0</td>\n",
       "      <td>2025-04-02T08:36:00</td>\n",
       "    </tr>\n",
       "    <tr>\n",
       "      <th>2</th>\n",
       "      <td>1002</td>\n",
       "      <td>Spurs</td>\n",
       "      <td>Liverpool</td>\n",
       "      <td>2025-04-02</td>\n",
       "      <td>5</td>\n",
       "      <td>2</td>\n",
       "      <td>2025-04-02T08:56:00</td>\n",
       "    </tr>\n",
       "    <tr>\n",
       "      <th>3</th>\n",
       "      <td>1003</td>\n",
       "      <td>Arsenal</td>\n",
       "      <td>Real Madrid</td>\n",
       "      <td>2025-04-02</td>\n",
       "      <td>0</td>\n",
       "      <td>3</td>\n",
       "      <td>2025-04-02T22:58:00</td>\n",
       "    </tr>\n",
       "    <tr>\n",
       "      <th>4</th>\n",
       "      <td>1004</td>\n",
       "      <td>Man United</td>\n",
       "      <td>Barcelona</td>\n",
       "      <td>2025-04-02</td>\n",
       "      <td>2</td>\n",
       "      <td>5</td>\n",
       "      <td>2025-04-02T06:01:00</td>\n",
       "    </tr>\n",
       "  </tbody>\n",
       "</table>\n",
       "</div>"
      ],
      "text/plain": [
       "   match_id   home_team    away_team        date  home_score  away_score  \\\n",
       "0      1000         PSG     Man City  2025-04-02           4           3   \n",
       "1      1001     Arsenal        Spurs  2025-04-02           2           0   \n",
       "2      1002       Spurs    Liverpool  2025-04-02           5           2   \n",
       "3      1003     Arsenal  Real Madrid  2025-04-02           0           3   \n",
       "4      1004  Man United    Barcelona  2025-04-02           2           5   \n",
       "\n",
       "          last_updated  \n",
       "0  2025-04-02T04:14:00  \n",
       "1  2025-04-02T08:36:00  \n",
       "2  2025-04-02T08:56:00  \n",
       "3  2025-04-02T22:58:00  \n",
       "4  2025-04-02T06:01:00  "
      ]
     },
     "metadata": {},
     "output_type": "display_data"
    }
   ],
   "source": [
    "\n",
    "\n",
    "# Section 1: Full Extraction\n",
    "import pandas as pd\n",
    "\n",
    "# Load full dataset\n",
    "df = pd.read_csv('custom_data.csv')\n",
    "\n",
    "# Display basic stats\n",
    "print(f\"Extracted {len(df)} rows fully.\")\n",
    "print(f\"Columns: {list(df.columns)}\")\n",
    "display(df.head())\n",
    "\n"
   ]
  },
  {
   "cell_type": "code",
   "execution_count": 49,
   "id": "cdc76777",
   "metadata": {},
   "outputs": [
    {
     "name": "stdout",
     "output_type": "stream",
     "text": [
      "\n",
      "Extracted 0 rows incrementally since last check.\n"
     ]
    },
    {
     "data": {
      "application/vnd.microsoft.datawrangler.viewer.v0+json": {
       "columns": [
        {
         "name": "index",
         "rawType": "int64",
         "type": "integer"
        },
        {
         "name": "match_id",
         "rawType": "int64",
         "type": "integer"
        },
        {
         "name": "home_team",
         "rawType": "object",
         "type": "string"
        },
        {
         "name": "away_team",
         "rawType": "object",
         "type": "string"
        },
        {
         "name": "date",
         "rawType": "object",
         "type": "string"
        },
        {
         "name": "home_score",
         "rawType": "int64",
         "type": "integer"
        },
        {
         "name": "away_score",
         "rawType": "int64",
         "type": "integer"
        },
        {
         "name": "last_updated",
         "rawType": "datetime64[ns]",
         "type": "datetime"
        }
       ],
       "ref": "3e5d03f6-967e-4cde-a6ab-a31a9743cead",
       "rows": [],
       "shape": {
        "columns": 7,
        "rows": 0
       }
      },
      "text/html": [
       "<div>\n",
       "<style scoped>\n",
       "    .dataframe tbody tr th:only-of-type {\n",
       "        vertical-align: middle;\n",
       "    }\n",
       "\n",
       "    .dataframe tbody tr th {\n",
       "        vertical-align: top;\n",
       "    }\n",
       "\n",
       "    .dataframe thead th {\n",
       "        text-align: right;\n",
       "    }\n",
       "</style>\n",
       "<table border=\"1\" class=\"dataframe\">\n",
       "  <thead>\n",
       "    <tr style=\"text-align: right;\">\n",
       "      <th></th>\n",
       "      <th>match_id</th>\n",
       "      <th>home_team</th>\n",
       "      <th>away_team</th>\n",
       "      <th>date</th>\n",
       "      <th>home_score</th>\n",
       "      <th>away_score</th>\n",
       "      <th>last_updated</th>\n",
       "    </tr>\n",
       "  </thead>\n",
       "  <tbody>\n",
       "  </tbody>\n",
       "</table>\n",
       "</div>"
      ],
      "text/plain": [
       "Empty DataFrame\n",
       "Columns: [match_id, home_team, away_team, date, home_score, away_score, last_updated]\n",
       "Index: []"
      ]
     },
     "metadata": {},
     "output_type": "display_data"
    }
   ],
   "source": [
    "# Section 2: Incremental Extraction\n",
    "from datetime import datetime\n",
    "\n",
    "# Read and clean timestamp from file\n",
    "with open('last_extraction.txt', 'r') as f:\n",
    "    raw_time = f.read().strip().replace('T', ' ')  # Replace T with space\n",
    "    last_time = datetime.strptime(raw_time, '%Y-%m-%d %H:%M:%S')\n",
    "\n",
    "# Convert 'last_updated' to datetime\n",
    "df['last_updated'] = pd.to_datetime(df['last_updated'])\n",
    "\n",
    "# Filter new records\n",
    "incremental_df = df[df['last_updated'] > last_time]\n",
    "\n",
    "print(f\"\\nExtracted {len(incremental_df)} rows incrementally since last check.\")\n",
    "display(incremental_df.head())\n"
   ]
  },
  {
   "cell_type": "code",
   "execution_count": 51,
   "id": "889a12d8",
   "metadata": {},
   "outputs": [
    {
     "name": "stdout",
     "output_type": "stream",
     "text": [
      "No new data. Timestamp not updated.\n"
     ]
    }
   ],
   "source": [
    "\n",
    "# Section 3: Save New Timestamp\n",
    "if not incremental_df.empty:\n",
    "    new_time = incremental_df['last_updated'].max()\n",
    "    with open('last_extraction.txt', 'w') as f:\n",
    "        f.write(new_time.strftime('%Y-%m-%d %H:%M:%S'))\n",
    "    print(f\"Timestamp updated to: {new_time}\")\n",
    "else:\n",
    "    print(\"No new data. Timestamp not updated.\")\n"
   ]
  }
 ],
 "metadata": {
  "kernelspec": {
   "display_name": "Python 3",
   "language": "python",
   "name": "python3"
  },
  "language_info": {
   "codemirror_mode": {
    "name": "ipython",
    "version": 3
   },
   "file_extension": ".py",
   "mimetype": "text/x-python",
   "name": "python",
   "nbconvert_exporter": "python",
   "pygments_lexer": "ipython3",
   "version": "3.11.9"
  }
 },
 "nbformat": 4,
 "nbformat_minor": 5
}
